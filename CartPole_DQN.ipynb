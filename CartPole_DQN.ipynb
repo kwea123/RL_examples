{
 "cells": [
  {
   "cell_type": "code",
   "execution_count": 1,
   "metadata": {},
   "outputs": [
    {
     "name": "stderr",
     "output_type": "stream",
     "text": [
      "/usr/local/lib/python3.5/dist-packages/h5py/__init__.py:36: FutureWarning: Conversion of the second argument of issubdtype from `float` to `np.floating` is deprecated. In future, it will be treated as `np.float64 == np.dtype(float).type`.\n",
      "  from ._conv import register_converters as _register_converters\n"
     ]
    }
   ],
   "source": [
    "import numpy as np\n",
    "import matplotlib.pyplot as plt\n",
    "import tensorflow as tf\n",
    "import time\n",
    "import random\n",
    "import gym"
   ]
  },
  {
   "cell_type": "code",
   "execution_count": 2,
   "metadata": {},
   "outputs": [],
   "source": [
    "class Episode_experience():\n",
    "    def __init__(self):\n",
    "        self.memory = []\n",
    "        \n",
    "    def add(self, state, action, reward, next_state, done):\n",
    "        self.memory += [(state, action, reward, next_state, done)]\n",
    "        \n",
    "    def clear(self):\n",
    "        self.memory = []\n",
    "        \n",
    "class DQNAgent():\n",
    "    def __init__(self, state_size, action_size, use_double_dqn=True, clip_target_value=False,\n",
    "                 use_layer_norm=True, clip_target_min=-np.inf, clip_target_max=np.inf):\n",
    "        self.state_size = state_size\n",
    "        self.action_size = action_size\n",
    "        self.use_double_dqn = use_double_dqn\n",
    "        self.clip_target_value = clip_target_value\n",
    "        self.clip_target_min = clip_target_min\n",
    "        self.clip_target_max = clip_target_max\n",
    "        self.memory = []\n",
    "        self.epsilon = 1.0 # exploration\n",
    "        self.epsilon_min = 0.1 # min exploration\n",
    "        self.epsilon_decay = 0.9\n",
    "        self.gamma = 0.98\n",
    "        self.batch_size = 32\n",
    "        self.learning_rate = 1e-3\n",
    "        self.gradient_norm_clip = 10 # clip the gradient\n",
    "        self.buffer_size = int(5e4)\n",
    "        self._set_model(use_layer_norm=use_layer_norm)\n",
    "        \n",
    "    def _set_model(self, use_layer_norm): # set value network\n",
    "        tf.reset_default_graph()\n",
    "        self.sess = tf.Session()\n",
    "        \n",
    "        self.tfs = tf.placeholder(tf.float32, [None, self.state_size], 'state')\n",
    "        self.tfs_ = tf.placeholder(tf.float32, [None, self.state_size], 'next_state')\n",
    "        self.tfa = tf.placeholder(tf.int32, [None, ], 'action')\n",
    "        self.tfr = tf.placeholder(tf.float32, [None, ], 'reward')\n",
    "        self.tfd = tf.placeholder(tf.float32, [None, ], 'done')\n",
    "        \n",
    "        def _build_qnet(state, scope, reuse=False):\n",
    "            with tf.variable_scope(scope, reuse=reuse):\n",
    "                if use_layer_norm:\n",
    "                    net = tf.layers.dense(state, 64)\n",
    "                    net = tf.contrib.layers.layer_norm(net, activation_fn=tf.nn.relu)\n",
    "                else:\n",
    "                    net = tf.layers.dense(state, 64, activation=tf.nn.relu)\n",
    "                q = tf.layers.dense(net, self.action_size)\n",
    "            return q, tf.get_collection(tf.GraphKeys.GLOBAL_VARIABLES, scope=scope)\n",
    "        \n",
    "        self.q_eval, self.e_params = _build_qnet(self.tfs, 'eval')\n",
    "        self.q_targ, self.t_params = _build_qnet(self.tfs_, 'target')\n",
    "        self.update_op = [tf.assign(t, e) for t, e in zip(self.t_params, self.e_params)] # update target network op\n",
    "        \n",
    "        if self.use_double_dqn:\n",
    "            q_eval_next, _ = _build_qnet(self.tfs_, 'eval', reuse=True) # reuse the same eval net\n",
    "            q_eval_next_best_action = tf.argmax(q_eval_next, 1)\n",
    "            self.q_target_value = tf.reduce_sum(self.q_targ * tf.one_hot(q_eval_next_best_action, self.action_size), 1)\n",
    "        else:\n",
    "            self.q_target_value = tf.reduce_max(self.q_targ, 1)\n",
    "            \n",
    "        self.q_target_value = self.tfr + self.gamma * (1-self.tfd) * self.q_target_value\n",
    "        \n",
    "        if self.clip_target_value:\n",
    "            self.q_target_value = tf.clip_by_value(self.q_target_value, self.clip_target_min, self.clip_target_max)\n",
    "        \n",
    "        self.q_eval_value = tf.reduce_sum(self.q_eval * tf.one_hot(self.tfa, self.action_size), 1)\n",
    "        \n",
    "        self.loss = tf.losses.huber_loss(self.q_target_value, self.q_eval_value) # define loss\n",
    "        \n",
    "        optimizer = tf.train.AdamOptimizer(self.learning_rate)\n",
    "        if self.gradient_norm_clip is not None:\n",
    "            gradients = optimizer.compute_gradients(self.loss, var_list=self.e_params) # only update e_params\n",
    "            for i, (grad, var) in enumerate(gradients):\n",
    "                if grad is not None:\n",
    "                    gradients[i] = (tf.clip_by_norm(grad, self.gradient_norm_clip), var)\n",
    "            self.train_op = optimizer.apply_gradients(gradients)\n",
    "        else:\n",
    "            self.train_op = optimizer.minimize(self.loss, var_list=self.e_params) # only update e_params\n",
    "        \n",
    "        self.saver = tf.train.Saver()\n",
    "        \n",
    "        self.sess.run(tf.global_variables_initializer())\n",
    "        \n",
    "    def choose_action(self, state):\n",
    "        if np.random.rand() <= self.epsilon:\n",
    "            return np.random.randint(self.action_size)\n",
    "        act_values = self.sess.run(self.q_eval, {self.tfs: state})\n",
    "        return np.argmax(act_values[0])\n",
    "    \n",
    "    def remember(self, ep_experience):\n",
    "        self.memory += ep_experience.memory\n",
    "        if len(self.memory) > self.buffer_size:\n",
    "            self.memory = self.memory[-self.buffer_size:] # empty the first memories\n",
    "        \n",
    "    def replay(self, optimization_steps=1):\n",
    "        if len(self.memory) < self.batch_size: # if there's no enough transitions, do nothing\n",
    "            return 0\n",
    "        \n",
    "        losses = 0\n",
    "        for _ in range(optimization_steps):\n",
    "            minibatch = np.vstack(random.sample(self.memory, self.batch_size))\n",
    "            ss = np.vstack(minibatch[:,0])\n",
    "            acs = minibatch[:,1]\n",
    "            rs = minibatch[:,2]\n",
    "            nss = np.vstack(minibatch[:,3])\n",
    "            ds = minibatch[:,4]\n",
    "            loss, _ = self.sess.run([self.loss, self.train_op], \n",
    "                                    {self.tfs: ss, self.tfa: acs,\n",
    "                                     self.tfr: rs, self.tfs_: nss, self.tfd: ds})\n",
    "            \n",
    "            losses += loss\n",
    "        \n",
    "        return losses/optimization_steps # return mean loss\n",
    "    \n",
    "    def update_target_net(self, decay=True):\n",
    "        self.sess.run(self.update_op)\n",
    "        if decay:\n",
    "            self.epsilon = max(self.epsilon*self.epsilon_decay, self.epsilon_min)"
   ]
  },
  {
   "cell_type": "markdown",
   "metadata": {},
   "source": [
    "# Create agent and environment"
   ]
  },
  {
   "cell_type": "code",
   "execution_count": 3,
   "metadata": {
    "scrolled": true
   },
   "outputs": [
    {
     "name": "stdout",
     "output_type": "stream",
     "text": [
      "\u001b[33mWARN: gym.spaces.Box autodetected dtype as <class 'numpy.float32'>. Please provide explicit dtype.\u001b[0m\n"
     ]
    }
   ],
   "source": [
    "env = gym.make('CartPole-v0')\n",
    "agent = DQNAgent(4, 2)"
   ]
  },
  {
   "cell_type": "markdown",
   "metadata": {},
   "source": [
    "____\n",
    "# Training"
   ]
  },
  {
   "cell_type": "code",
   "execution_count": 4,
   "metadata": {
    "scrolled": false
   },
   "outputs": [
    {
     "name": "stdout",
     "output_type": "stream",
     "text": [
      "steps 284 mean r 31.67\n",
      "steps 485 mean r 25.58\n",
      "steps 715 mean r 24.69\n",
      "steps 928 mean r 23.82\n",
      "steps 1144 mean r 23.37\n",
      "steps 1370 mean r 23.24\n",
      "steps 1650 mean r 23.93\n",
      "steps 1848 mean r 23.41\n",
      "steps 2084 mean r 23.43\n",
      "steps 2332 mean r 23.57\n",
      "steps 2686 mean r 24.02\n",
      "steps 2932 mean r 24.47\n",
      "steps 3392 mean r 26.77\n",
      "steps 3858 mean r 29.30\n",
      "steps 4393 mean r 32.49\n",
      "steps 5241 mean r 38.71\n",
      "steps 6485 mean r 48.35\n",
      "steps 8016 mean r 61.68\n",
      "steps 9659 mean r 75.75\n",
      "steps 11372 mean r 90.40\n",
      "steps 13052 mean r 103.66\n",
      "steps 14918 mean r 119.86\n",
      "steps 16633 mean r 132.41\n",
      "steps 18097 mean r 142.39\n",
      "steps 19501 mean r 151.08\n",
      "steps 21095 mean r 158.54\n",
      "steps 22786 mean r 163.01\n",
      "steps 24618 mean r 166.02\n",
      "steps 26177 mean r 165.18\n",
      "steps 27680 mean r 163.08\n",
      "steps 29002 mean r 159.50\n",
      "steps 30867 mean r 159.49\n",
      "steps 32850 mean r 162.17\n",
      "steps 34811 mean r 167.14\n",
      "steps 36811 mean r 173.10\n",
      "steps 38765 mean r 176.70\n",
      "steps 40688 mean r 179.02\n",
      "steps 42154 mean r 175.36\n",
      "steps 43621 mean r 174.44\n",
      "steps 45621 mean r 179.41\n",
      "steps 47445 mean r 184.43\n",
      "steps 49445 mean r 185.78\n",
      "steps 51372 mean r 185.22\n",
      "steps 53372 mean r 185.61\n",
      "steps 55345 mean r 185.34\n",
      "steps 57342 mean r 185.77\n",
      "steps 59342 mean r 186.54\n",
      "steps 61342 mean r 191.88\n",
      "steps 63342 mean r 197.21\n",
      "steps 65342 mean r 197.21\n",
      "steps 67342 mean r 198.97\n",
      "steps 68875 mean r 194.30\n",
      "steps 70361 mean r 189.89\n",
      "steps 72111 mean r 187.39\n",
      "steps 73921 mean r 185.76\n",
      "steps 75744 mean r 184.02\n",
      "steps 77744 mean r 184.02\n",
      "steps 79737 mean r 183.95\n",
      "steps 81685 mean r 183.43\n",
      "steps 83662 mean r 183.20\n",
      "steps 85618 mean r 182.76\n",
      "steps 87551 mean r 186.76\n",
      "steps 89551 mean r 191.90\n",
      "steps 91261 mean r 191.50\n",
      "steps 93214 mean r 192.93\n",
      "steps 95159 mean r 194.15\n",
      "steps 96984 mean r 192.40\n",
      "steps 98790 mean r 190.53\n",
      "Training time : 534.42 s\n"
     ]
    }
   ],
   "source": [
    "losses = []\n",
    "rs = [0.0]\n",
    "\n",
    "ep_experience = Episode_experience()\n",
    "state = env.reset()\n",
    "\n",
    "start_time = time.time()\n",
    "for t in range(int(1e5)):\n",
    "    action = agent.choose_action([state])\n",
    "    next_state, reward, done, _ = env.step(action)\n",
    "    ep_experience.add(state, action, reward, next_state, done)\n",
    "    agent.remember(ep_experience)  \n",
    "    ep_experience.clear()\n",
    "    rs[-1]+=reward\n",
    "    state = next_state\n",
    "    if done:\n",
    "        state = env.reset()\n",
    "        rs += [0.0]\n",
    "    if t>1000:\n",
    "        losses+=[agent.replay(1)]\n",
    "    if t>1000 and t%500==0:\n",
    "        agent.update_target_net()\n",
    "    if done and len(rs)%10==0:\n",
    "        print(\"steps\", t, \"mean r %.2f\"%np.mean(rs[-101:-1])) # mean over last 100 episodes\n",
    "        \n",
    "print(\"Training time : %.2f\"%(time.time()-start_time), \"s\")"
   ]
  },
  {
   "cell_type": "markdown",
   "metadata": {},
   "source": [
    "____\n",
    "# Testing"
   ]
  },
  {
   "cell_type": "code",
   "execution_count": 9,
   "metadata": {},
   "outputs": [
    {
     "name": "stdout",
     "output_type": "stream",
     "text": [
      "rew : 200.0\n",
      "rew : 196.0\n",
      "rew : 200.0\n",
      "rew : 189.0\n",
      "rew : 189.0\n"
     ]
    }
   ],
   "source": [
    "for _ in range(5):\n",
    "    state = env.reset()\n",
    "    r = 0\n",
    "    while True:\n",
    "        env.render()\n",
    "        action = agent.choose_action([state])\n",
    "        next_state, reward, done, _ = env.step(action)\n",
    "        r += reward\n",
    "        state = next_state\n",
    "        if done:\n",
    "            break\n",
    "    print(\"rew :\", r)"
   ]
  },
  {
   "cell_type": "code",
   "execution_count": 10,
   "metadata": {
    "collapsed": true
   },
   "outputs": [],
   "source": [
    "env.close()"
   ]
  },
  {
   "cell_type": "code",
   "execution_count": null,
   "metadata": {
    "collapsed": true
   },
   "outputs": [],
   "source": []
  }
 ],
 "metadata": {
  "kernelspec": {
   "display_name": "Python 3",
   "language": "python",
   "name": "python3"
  },
  "language_info": {
   "codemirror_mode": {
    "name": "ipython",
    "version": 3
   },
   "file_extension": ".py",
   "mimetype": "text/x-python",
   "name": "python",
   "nbconvert_exporter": "python",
   "pygments_lexer": "ipython3",
   "version": "3.5.2"
  }
 },
 "nbformat": 4,
 "nbformat_minor": 2
}
