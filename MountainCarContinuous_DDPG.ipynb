{
 "cells": [
  {
   "cell_type": "code",
   "execution_count": 1,
   "metadata": {},
   "outputs": [
    {
     "name": "stderr",
     "output_type": "stream",
     "text": [
      "/usr/local/lib/python3.5/dist-packages/h5py/__init__.py:36: FutureWarning: Conversion of the second argument of issubdtype from `float` to `np.floating` is deprecated. In future, it will be treated as `np.float64 == np.dtype(float).type`.\n",
      "  from ._conv import register_converters as _register_converters\n"
     ]
    }
   ],
   "source": [
    "import numpy as np\n",
    "import tensorflow as tf\n",
    "import time\n",
    "import random"
   ]
  },
  {
   "cell_type": "code",
   "execution_count": 2,
   "metadata": {},
   "outputs": [],
   "source": [
    "class Episode_experience():\n",
    "    def __init__(self):\n",
    "        self.memory = []\n",
    "        \n",
    "    def add(self, state, action, reward, next_state, done):\n",
    "        self.memory += [(state, action, reward, next_state, done)]\n",
    "        \n",
    "    def clear(self):\n",
    "        self.memory = []\n",
    "\n",
    "class DDPGAgent:\n",
    "    def __init__(self, state_size, action_size, action_low=-1, action_high=1, gamma=0.98,\n",
    "                 actor_learning_rate=0.01, critic_learning_rate=0.01, tau=1e-3):\n",
    "        self.state_size = state_size\n",
    "        self.action_size = action_size\n",
    "        self.action_low = action_low\n",
    "        self.action_high = action_high\n",
    "        self.gamma = gamma   # discount rate\n",
    "        self.memory = []\n",
    "        self.buffer_size = int(5e4)\n",
    "        self.actor_learning_rate = actor_learning_rate\n",
    "        self.critic_learning_rate = critic_learning_rate # often larger than actor_learning_rate\n",
    "        self.tau = tau # soft update\n",
    "        self.batch_size = 32\n",
    "        self._construct_nets()\n",
    "        \n",
    "    def _construct_nets(self):\n",
    "        tf.reset_default_graph()\n",
    "        self.sess = tf.Session()\n",
    "        \n",
    "        self.S = tf.placeholder(tf.float32, [None, self.state_size], 'state')\n",
    "        self.S_ = tf.placeholder(tf.float32, [None, self.state_size], 'next_state')\n",
    "        self.D = tf.placeholder(tf.float32, [None, 1], 'done')\n",
    "        self.R = tf.placeholder(tf.float32, [None, 1], 'r')\n",
    "\n",
    "        with tf.variable_scope('Actor'):\n",
    "            self.a = self._build_a(self.S, scope='eval')\n",
    "            self.a_ = self._build_a(self.S_, scope='target')\n",
    "        with tf.variable_scope('Critic'):\n",
    "            q = self._build_c(self.S, self.a, scope='eval')\n",
    "            q_ = self._build_c(self.S_, self.a_, scope='target')\n",
    "        \n",
    "        self.ae_params = tf.get_collection(tf.GraphKeys.GLOBAL_VARIABLES, scope='Actor/eval')\n",
    "        self.at_params = tf.get_collection(tf.GraphKeys.GLOBAL_VARIABLES, scope='Actor/target')\n",
    "        self.ce_params = tf.get_collection(tf.GraphKeys.GLOBAL_VARIABLES, scope='Critic/eval')\n",
    "        self.ct_params = tf.get_collection(tf.GraphKeys.GLOBAL_VARIABLES, scope='Critic/target')\n",
    "\n",
    "        self.soft_update_op = [[tf.assign(ta, (1 - self.tau) * ta + self.tau * ea), tf.assign(tc, (1 - self.tau) * tc + self.tau * ec)]\n",
    "                             for ta, ea, tc, ec in zip(self.at_params, self.ae_params, self.ct_params, self.ce_params)]\n",
    "\n",
    "        q_target = self.R + self.gamma * (1-self.D) * q_\n",
    "        td_error_squared = tf.losses.mean_squared_error(q_target, q)\n",
    "        self.ctrain = tf.train.AdamOptimizer(self.critic_learning_rate).minimize(td_error_squared, var_list=self.ce_params)\n",
    "           \n",
    "        a_loss = - tf.reduce_mean(q)    # maximize the q\n",
    "        self.atrain = tf.train.AdamOptimizer(self.actor_learning_rate).minimize(a_loss, var_list=self.ae_params)\n",
    "        \n",
    "        self.sess.run(tf.global_variables_initializer())\n",
    "    \n",
    "    def _build_a(self, s, scope): # policy\n",
    "        with tf.variable_scope(scope):\n",
    "            net = tf.layers.dense(s, 64, tf.nn.relu, name='l1')\n",
    "            a = tf.layers.dense(net, self.action_size, tf.nn.tanh, name='a')\n",
    "            return a * (self.action_high-self.action_low)/2 + (self.action_high+self.action_low)/2\n",
    "    \n",
    "    def _build_c(self, s, a, scope): # Q value\n",
    "        with tf.variable_scope(scope):\n",
    "            net = tf.layers.dense(tf.concat([s, a], axis=1), 64, tf.nn.relu)\n",
    "            return tf.layers.dense(net, 1)  # Q(s,a)\n",
    "    \n",
    "    def choose_action(self, state, variance): # normal distribution\n",
    "        action = self.sess.run(self.a, {self.S: state})[0]\n",
    "        return np.clip(np.random.normal(action, variance), self.action_low, self.action_high)\n",
    "    \n",
    "    def remember(self, ep_experience):\n",
    "        self.memory += ep_experience.memory\n",
    "        if len(self.memory) > self.buffer_size:\n",
    "            self.memory = self.memory[-self.buffer_size:] # empty the first memories\n",
    "        \n",
    "    def replay(self, optimization_steps=1):\n",
    "        if len(self.memory) < self.batch_size: # if there's no enough transitions, do nothing\n",
    "            return\n",
    "        \n",
    "        for _ in range(optimization_steps):\n",
    "            minibatch = np.vstack(random.sample(self.memory, self.batch_size))\n",
    "            ss = np.vstack(minibatch[:,0])\n",
    "            acs = np.vstack(minibatch[:,1])\n",
    "            rs = np.vstack(minibatch[:,2])\n",
    "            nss = np.vstack(minibatch[:,3])\n",
    "            ds = np.vstack(minibatch[:,4])\n",
    "            self.sess.run(self.atrain, {self.S: ss})\n",
    "            self.sess.run(self.ctrain, {self.S: ss, self.a: acs, self.R: rs,\n",
    "                                        self.S_: nss, self.D: ds})\n",
    "    \n",
    "    def update_target_net(self):\n",
    "        self.sess.run(self.soft_update_op)"
   ]
  },
  {
   "cell_type": "code",
   "execution_count": 3,
   "metadata": {},
   "outputs": [
    {
     "name": "stdout",
     "output_type": "stream",
     "text": [
      "\u001b[33mWARN: gym.spaces.Box autodetected dtype as <class 'numpy.float32'>. Please provide explicit dtype.\u001b[0m\n",
      "\u001b[33mWARN: gym.spaces.Box autodetected dtype as <class 'numpy.float32'>. Please provide explicit dtype.\u001b[0m\n"
     ]
    }
   ],
   "source": [
    "import gym\n",
    "env = gym.make('MountainCarContinuous-v0')"
   ]
  },
  {
   "cell_type": "code",
   "execution_count": 4,
   "metadata": {},
   "outputs": [],
   "source": [
    "agent = DDPGAgent(2, 1, tau=0.9)"
   ]
  },
  {
   "cell_type": "code",
   "execution_count": 5,
   "metadata": {},
   "outputs": [
    {
     "name": "stdout",
     "output_type": "stream",
     "text": [
      "steps 8990 mean r -81.64 variance 2.74\n",
      "steps 18755 mean r -74.52 variance 2.49\n",
      "steps 25690 mean r -43.58 variance 2.32\n",
      "steps 30633 mean r -16.68 variance 2.21\n",
      "steps 33172 mean r 3.07 variance 2.15\n",
      "steps 35326 mean r 16.66 variance 2.11\n",
      "steps 37848 mean r 25.92 variance 2.05\n",
      "steps 39642 mean r 33.54 variance 2.02\n",
      "steps 41791 mean r 39.16 variance 1.97\n",
      "steps 44175 mean r 43.44 variance 1.93\n",
      "steps 46195 mean r 58.85 variance 1.89\n",
      "steps 48182 mean r 74.15 variance 1.85\n",
      "steps 50641 mean r 80.81 variance 1.81\n",
      "steps 52441 mean r 83.34 variance 1.78\n",
      "steps 54180 mean r 84.03 variance 1.74\n",
      "steps 56156 mean r 84.22 variance 1.71\n",
      "steps 57980 mean r 84.82 variance 1.68\n",
      "steps 59543 mean r 85.08 variance 1.65\n",
      "steps 61219 mean r 85.53 variance 1.63\n",
      "steps 63015 mean r 86.07 variance 1.60\n",
      "steps 65247 mean r 85.93 variance 1.56\n",
      "steps 66931 mean r 86.22 variance 1.54\n",
      "steps 68494 mean r 86.92 variance 1.51\n",
      "steps 70143 mean r 87.07 variance 1.49\n",
      "steps 72550 mean r 86.63 variance 1.45\n",
      "steps 74101 mean r 86.99 variance 1.43\n",
      "steps 75799 mean r 87.11 variance 1.41\n",
      "steps 77373 mean r 87.14 variance 1.38\n",
      "steps 78894 mean r 87.24 variance 1.36\n",
      "steps 80667 mean r 87.26 variance 1.34\n",
      "steps 82195 mean r 87.81 variance 1.32\n",
      "steps 83733 mean r 87.91 variance 1.30\n",
      "steps 85369 mean r 87.87 variance 1.28\n",
      "steps 86862 mean r 87.99 variance 1.26\n",
      "steps 88364 mean r 88.68 variance 1.24\n",
      "steps 89935 mean r 88.74 variance 1.22\n",
      "steps 91387 mean r 88.94 variance 1.20\n",
      "steps 92904 mean r 89.00 variance 1.18\n",
      "steps 94493 mean r 89.03 variance 1.17\n",
      "steps 95963 mean r 89.28 variance 1.15\n",
      "steps 97512 mean r 89.31 variance 1.13\n",
      "steps 99169 mean r 89.27 variance 1.11\n",
      "Training time : 188.17 s\n"
     ]
    }
   ],
   "source": [
    "# no param noise\n",
    "rs = [0.0]\n",
    "\n",
    "ep_experience = Episode_experience()\n",
    "state = env.reset()\n",
    "variance = 3\n",
    "\n",
    "start_time = time.time()\n",
    "for t in range(int(1e5)):\n",
    "    action = agent.choose_action([state], variance)\n",
    "    next_state, reward, done, _ = env.step(action)\n",
    "    ep_experience.add(state, action, reward, next_state, done)\n",
    "    agent.remember(ep_experience)  \n",
    "    ep_experience.clear()\n",
    "    rs[-1]+=reward\n",
    "    state = next_state\n",
    "    if done:\n",
    "        state = env.reset()\n",
    "        rs += [0.0]\n",
    "    if t%50==0:\n",
    "        variance *= 0.9995\n",
    "        agent.replay(20)\n",
    "        agent.update_target_net()\n",
    "    if done and len(rs)%10==0:\n",
    "        print(\"steps\", t, \"mean r %.2f\"%np.mean(rs[-101:-1]), \"variance %.2f\"%variance)\n",
    "        \n",
    "print(\"Training time : %.2f\"%(time.time()-start_time), \"s\")"
   ]
  },
  {
   "cell_type": "code",
   "execution_count": 6,
   "metadata": {},
   "outputs": [
    {
     "name": "stdout",
     "output_type": "stream",
     "text": [
      "reward : 93.41152048430182\n",
      "reward : 93.41018269084864\n",
      "reward : 93.40853161914451\n",
      "reward : 93.39988396559905\n",
      "reward : 93.30464309507579\n"
     ]
    }
   ],
   "source": [
    "actions = []\n",
    "for _ in range(5):\n",
    "    state = env.reset()\n",
    "    r = 0\n",
    "    while True:\n",
    "#         env.render()\n",
    "        action = agent.choose_action([state], 0)\n",
    "        next_state, reward, done, _ = env.step(action)\n",
    "        r += reward\n",
    "        state = next_state\n",
    "        if done:\n",
    "            break\n",
    "    print(\"reward :\", r)"
   ]
  },
  {
   "cell_type": "code",
   "execution_count": null,
   "metadata": {
    "collapsed": true
   },
   "outputs": [],
   "source": []
  }
 ],
 "metadata": {
  "kernelspec": {
   "display_name": "Python 3",
   "language": "python",
   "name": "python3"
  },
  "language_info": {
   "codemirror_mode": {
    "name": "ipython",
    "version": 3
   },
   "file_extension": ".py",
   "mimetype": "text/x-python",
   "name": "python",
   "nbconvert_exporter": "python",
   "pygments_lexer": "ipython3",
   "version": "3.5.2"
  }
 },
 "nbformat": 4,
 "nbformat_minor": 2
}
